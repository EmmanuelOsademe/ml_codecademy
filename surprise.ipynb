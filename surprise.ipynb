{
 "cells": [
  {
   "cell_type": "code",
   "execution_count": 5,
   "id": "b2917d93-8053-4bbc-b96e-b8e5d1953168",
   "metadata": {},
   "outputs": [
    {
     "name": "stdout",
     "output_type": "stream",
     "text": [
      "Dataset ml-100k could not be found. Do you want to download it? [Y/n] "
     ]
    },
    {
     "name": "stdin",
     "output_type": "stream",
     "text": [
      " y\n"
     ]
    },
    {
     "name": "stdout",
     "output_type": "stream",
     "text": [
      "Trying to download dataset from https://files.grouplens.org/datasets/movielens/ml-100k.zip...\n",
      "Done! Dataset ml-100k has been saved to C:\\Users\\HP/.surprise_data/ml-100k\n"
     ]
    }
   ],
   "source": [
    "import surprise\n",
    "\n",
    "from surprise import Dataset\n",
    "movie_data = Dataset.load_builtin('ml-100k')"
   ]
  },
  {
   "cell_type": "code",
   "execution_count": 13,
   "id": "c77fe788-8eca-470f-8a27-0ca9447171c5",
   "metadata": {},
   "outputs": [
    {
     "data": {
      "text/plain": [
       "[(699, 4.0),\n",
       " (114, 4.0),\n",
       " (339, 5.0),\n",
       " (769, 5.0),\n",
       " (230, 4.0),\n",
       " (212, 5.0),\n",
       " (21, 5.0),\n",
       " (33, 3.0),\n",
       " (94, 4.0),\n",
       " (74, 2.0),\n",
       " (22, 4.0),\n",
       " (471, 5.0),\n",
       " (8, 3.0),\n",
       " (305, 3.0),\n",
       " (645, 3.0),\n",
       " (558, 2.0),\n",
       " (166, 4.0),\n",
       " (129, 4.0),\n",
       " (100, 5.0),\n",
       " (232, 3.0),\n",
       " (391, 3.0),\n",
       " (204, 3.0),\n",
       " (508, 4.0),\n",
       " (79, 3.0),\n",
       " (83, 4.0),\n",
       " (426, 1.0),\n",
       " (6, 3.0),\n",
       " (58, 3.0),\n",
       " (1119, 5.0),\n",
       " (76, 5.0)]"
      ]
     },
     "execution_count": 13,
     "metadata": {},
     "output_type": "execute_result"
    }
   ],
   "source": [
    "from surprise.model_selection import train_test_split\n",
    "trainset, testset = train_test_split(movie_data, test_size=0.2, random_state=42)\n",
    "trainset.ur[590]"
   ]
  },
  {
   "cell_type": "code",
   "execution_count": 15,
   "id": "588ef4b3-8af9-455d-86bf-ebec4d72d07c",
   "metadata": {},
   "outputs": [
    {
     "name": "stdout",
     "output_type": "stream",
     "text": [
      "Computing the msd similarity matrix...\n",
      "Done computing similarity matrix.\n"
     ]
    },
    {
     "data": {
      "text/plain": [
       "<surprise.prediction_algorithms.knns.KNNBasic at 0x1d358f7dd00>"
      ]
     },
     "execution_count": 15,
     "metadata": {},
     "output_type": "execute_result"
    }
   ],
   "source": [
    "from surprise import KNNBasic\n",
    "\n",
    "movie_recommender = KNNBasic()\n",
    "movie_recommender.fit(trainset)"
   ]
  },
  {
   "cell_type": "code",
   "execution_count": 19,
   "id": "e21864eb-d8ef-4b7d-9eaa-ce50f840285e",
   "metadata": {},
   "outputs": [
    {
     "data": {
      "text/plain": [
       "Prediction(uid='907', iid='143', r_ui=5.0, est=4.039960584359155, details={'actual_k': 40, 'was_impossible': False})"
      ]
     },
     "execution_count": 19,
     "metadata": {},
     "output_type": "execute_result"
    }
   ],
   "source": [
    "predictions = movie_recommender.test(testset)\n",
    "predictions[0]"
   ]
  },
  {
   "cell_type": "code",
   "execution_count": 21,
   "id": "9bcd744a-3574-4b60-be4e-2c7eb14da45c",
   "metadata": {},
   "outputs": [
    {
     "name": "stdout",
     "output_type": "stream",
     "text": [
      "RMSE: 0.9802\n"
     ]
    },
    {
     "data": {
      "text/plain": [
       "0.980150596704479"
      ]
     },
     "execution_count": 21,
     "metadata": {},
     "output_type": "execute_result"
    }
   ],
   "source": [
    "from surprise import accuracy\n",
    "accuracy.rmse(predictions)"
   ]
  },
  {
   "cell_type": "code",
   "execution_count": 23,
   "id": "f400090f-84ce-4108-919e-31e01a8f9d3d",
   "metadata": {},
   "outputs": [
    {
     "name": "stdout",
     "output_type": "stream",
     "text": [
      "RMSE: 0.9344\n"
     ]
    },
    {
     "data": {
      "text/plain": [
       "0.9343646236829055"
      ]
     },
     "execution_count": 23,
     "metadata": {},
     "output_type": "execute_result"
    }
   ],
   "source": [
    "from surprise import SVD\n",
    "\n",
    "svd_recommender = SVD()\n",
    "svd_recommender.fit(trainset)\n",
    "\n",
    "svd_predictions = svd_recommender.test(testset)\n",
    "accuracy.rmse(svd_predictions)"
   ]
  }
 ],
 "metadata": {
  "kernelspec": {
   "display_name": "Python 3 (ipykernel)",
   "language": "python",
   "name": "python3"
  },
  "language_info": {
   "codemirror_mode": {
    "name": "ipython",
    "version": 3
   },
   "file_extension": ".py",
   "mimetype": "text/x-python",
   "name": "python",
   "nbconvert_exporter": "python",
   "pygments_lexer": "ipython3",
   "version": "3.12.4"
  }
 },
 "nbformat": 4,
 "nbformat_minor": 5
}
